{
 "cells": [
  {
   "metadata": {},
   "cell_type": "markdown",
   "source": "# Bootstrapping method"
  },
  {
   "metadata": {},
   "cell_type": "code",
   "outputs": [
    {
     "name": "stderr",
     "output_type": "stream",
     "text": [
      "/opt/anaconda3/lib/python3.7/site-packages/geopandas/_compat.py:115: UserWarning: The Shapely GEOS version (3.8.0-CAPI-1.13.1 ) is incompatible with the GEOS version PyGEOS was compiled with (3.10.4-CAPI-1.16.2). Conversions between both will be slow.\n",
      "  shapely_geos_version, geos_capi_version_string\n"
     ]
    }
   ],
   "execution_count": 1,
   "source": [
    "import pandas as pd\n",
    "import geopandas as gpd\n",
    "import numpy as np\n",
    "import matplotlib.pyplot as plt\n",
    "import seaborn as sns\n",
    "from sklearn.model_selection import train_test_split, GridSearchCV, RandomizedSearchCV\n",
    "import xgboost as xgb\n",
    "from sklearn.metrics import accuracy_score, r2_score # root_mean_squared_error\n",
    "from sklearn.utils import resample"
   ]
  },
  {
   "cell_type": "code",
   "execution_count": 2,
   "metadata": {},
   "outputs": [],
   "source": [
    "data = pd.read_csv('./seattle_data/seattle_sample_3k.csv')"
   ]
  },
  {
   "cell_type": "code",
   "execution_count": 3,
   "metadata": {},
   "outputs": [],
   "source": [
    "data = gpd.GeoDataFrame(data, crs=\"EPSG:32610\", geometry=gpd.points_from_xy(x=data.UTM_X, y=data.UTM_Y))"
   ]
  },
  {
   "cell_type": "code",
   "execution_count": 4,
   "metadata": {},
   "outputs": [],
   "source": [
    "data = data.to_crs(4326)"
   ]
  },
  {
   "cell_type": "code",
   "execution_count": 5,
   "metadata": {},
   "outputs": [
    {
     "data": {
      "text/html": [
       "<div>\n",
       "<style scoped>\n",
       "    .dataframe tbody tr th:only-of-type {\n",
       "        vertical-align: middle;\n",
       "    }\n",
       "\n",
       "    .dataframe tbody tr th {\n",
       "        vertical-align: top;\n",
       "    }\n",
       "\n",
       "    .dataframe thead th {\n",
       "        text-align: right;\n",
       "    }\n",
       "</style>\n",
       "<table border=\"1\" class=\"dataframe\">\n",
       "  <thead>\n",
       "    <tr style=\"text-align: right;\">\n",
       "      <th></th>\n",
       "      <th>Unnamed: 0</th>\n",
       "      <th>bathrooms</th>\n",
       "      <th>sqft_living</th>\n",
       "      <th>sqft_lot</th>\n",
       "      <th>grade</th>\n",
       "      <th>condition</th>\n",
       "      <th>waterfront</th>\n",
       "      <th>view</th>\n",
       "      <th>age</th>\n",
       "      <th>UTM_X</th>\n",
       "      <th>UTM_Y</th>\n",
       "      <th>log_price</th>\n",
       "      <th>geometry</th>\n",
       "    </tr>\n",
       "  </thead>\n",
       "  <tbody>\n",
       "    <tr>\n",
       "      <th>0</th>\n",
       "      <td>0</td>\n",
       "      <td>3.00</td>\n",
       "      <td>2660</td>\n",
       "      <td>4600</td>\n",
       "      <td>8</td>\n",
       "      <td>3</td>\n",
       "      <td>0</td>\n",
       "      <td>0</td>\n",
       "      <td>109</td>\n",
       "      <td>552217.557035</td>\n",
       "      <td>5.274945e+06</td>\n",
       "      <td>6.091315</td>\n",
       "      <td>POINT (-122.30500 47.62580)</td>\n",
       "    </tr>\n",
       "    <tr>\n",
       "      <th>1</th>\n",
       "      <td>1</td>\n",
       "      <td>2.25</td>\n",
       "      <td>2530</td>\n",
       "      <td>8736</td>\n",
       "      <td>7</td>\n",
       "      <td>4</td>\n",
       "      <td>0</td>\n",
       "      <td>0</td>\n",
       "      <td>57</td>\n",
       "      <td>565692.484331</td>\n",
       "      <td>5.272758e+06</td>\n",
       "      <td>5.790988</td>\n",
       "      <td>POINT (-122.12600 47.60490)</td>\n",
       "    </tr>\n",
       "    <tr>\n",
       "      <th>2</th>\n",
       "      <td>2</td>\n",
       "      <td>2.00</td>\n",
       "      <td>1390</td>\n",
       "      <td>13464</td>\n",
       "      <td>7</td>\n",
       "      <td>4</td>\n",
       "      <td>0</td>\n",
       "      <td>0</td>\n",
       "      <td>28</td>\n",
       "      <td>562451.661509</td>\n",
       "      <td>5.245291e+06</td>\n",
       "      <td>5.315130</td>\n",
       "      <td>POINT (-122.17300 47.35810)</td>\n",
       "    </tr>\n",
       "    <tr>\n",
       "      <th>3</th>\n",
       "      <td>3</td>\n",
       "      <td>1.00</td>\n",
       "      <td>940</td>\n",
       "      <td>4264</td>\n",
       "      <td>7</td>\n",
       "      <td>5</td>\n",
       "      <td>0</td>\n",
       "      <td>0</td>\n",
       "      <td>66</td>\n",
       "      <td>546816.935618</td>\n",
       "      <td>5.264407e+06</td>\n",
       "      <td>5.619093</td>\n",
       "      <td>POINT (-122.37800 47.53140)</td>\n",
       "    </tr>\n",
       "    <tr>\n",
       "      <th>4</th>\n",
       "      <td>4</td>\n",
       "      <td>2.25</td>\n",
       "      <td>2070</td>\n",
       "      <td>7225</td>\n",
       "      <td>8</td>\n",
       "      <td>3</td>\n",
       "      <td>0</td>\n",
       "      <td>0</td>\n",
       "      <td>36</td>\n",
       "      <td>564343.195352</td>\n",
       "      <td>5.244978e+06</td>\n",
       "      <td>5.477121</td>\n",
       "      <td>POINT (-122.14800 47.35510)</td>\n",
       "    </tr>\n",
       "    <tr>\n",
       "      <th>...</th>\n",
       "      <td>...</td>\n",
       "      <td>...</td>\n",
       "      <td>...</td>\n",
       "      <td>...</td>\n",
       "      <td>...</td>\n",
       "      <td>...</td>\n",
       "      <td>...</td>\n",
       "      <td>...</td>\n",
       "      <td>...</td>\n",
       "      <td>...</td>\n",
       "      <td>...</td>\n",
       "      <td>...</td>\n",
       "      <td>...</td>\n",
       "    </tr>\n",
       "    <tr>\n",
       "      <th>2995</th>\n",
       "      <td>2995</td>\n",
       "      <td>1.50</td>\n",
       "      <td>1290</td>\n",
       "      <td>8366</td>\n",
       "      <td>7</td>\n",
       "      <td>3</td>\n",
       "      <td>0</td>\n",
       "      <td>0</td>\n",
       "      <td>58</td>\n",
       "      <td>551377.991268</td>\n",
       "      <td>5.259321e+06</td>\n",
       "      <td>5.380211</td>\n",
       "      <td>POINT (-122.31800 47.48530)</td>\n",
       "    </tr>\n",
       "    <tr>\n",
       "      <th>2996</th>\n",
       "      <td>2996</td>\n",
       "      <td>1.50</td>\n",
       "      <td>1490</td>\n",
       "      <td>12186</td>\n",
       "      <td>7</td>\n",
       "      <td>4</td>\n",
       "      <td>0</td>\n",
       "      <td>0</td>\n",
       "      <td>65</td>\n",
       "      <td>550796.231636</td>\n",
       "      <td>5.291393e+06</td>\n",
       "      <td>5.566895</td>\n",
       "      <td>POINT (-122.32200 47.77390)</td>\n",
       "    </tr>\n",
       "    <tr>\n",
       "      <th>2997</th>\n",
       "      <td>2997</td>\n",
       "      <td>1.50</td>\n",
       "      <td>1510</td>\n",
       "      <td>16800</td>\n",
       "      <td>8</td>\n",
       "      <td>5</td>\n",
       "      <td>0</td>\n",
       "      <td>0</td>\n",
       "      <td>59</td>\n",
       "      <td>549619.278143</td>\n",
       "      <td>5.288838e+06</td>\n",
       "      <td>5.618048</td>\n",
       "      <td>POINT (-122.33800 47.75100)</td>\n",
       "    </tr>\n",
       "    <tr>\n",
       "      <th>2998</th>\n",
       "      <td>2998</td>\n",
       "      <td>2.00</td>\n",
       "      <td>1640</td>\n",
       "      <td>3021</td>\n",
       "      <td>7</td>\n",
       "      <td>3</td>\n",
       "      <td>0</td>\n",
       "      <td>2</td>\n",
       "      <td>56</td>\n",
       "      <td>548198.517745</td>\n",
       "      <td>5.279378e+06</td>\n",
       "      <td>5.732394</td>\n",
       "      <td>POINT (-122.35800 47.66600)</td>\n",
       "    </tr>\n",
       "    <tr>\n",
       "      <th>2999</th>\n",
       "      <td>2999</td>\n",
       "      <td>2.00</td>\n",
       "      <td>1410</td>\n",
       "      <td>9600</td>\n",
       "      <td>7</td>\n",
       "      <td>4</td>\n",
       "      <td>0</td>\n",
       "      <td>0</td>\n",
       "      <td>32</td>\n",
       "      <td>564000.344592</td>\n",
       "      <td>5.289879e+06</td>\n",
       "      <td>5.562887</td>\n",
       "      <td>POINT (-122.14600 47.75910)</td>\n",
       "    </tr>\n",
       "  </tbody>\n",
       "</table>\n",
       "<p>3000 rows × 13 columns</p>\n",
       "</div>"
      ],
      "text/plain": [
       "      Unnamed: 0  bathrooms  sqft_living  sqft_lot  grade  condition  \\\n",
       "0              0       3.00         2660      4600      8          3   \n",
       "1              1       2.25         2530      8736      7          4   \n",
       "2              2       2.00         1390     13464      7          4   \n",
       "3              3       1.00          940      4264      7          5   \n",
       "4              4       2.25         2070      7225      8          3   \n",
       "...          ...        ...          ...       ...    ...        ...   \n",
       "2995        2995       1.50         1290      8366      7          3   \n",
       "2996        2996       1.50         1490     12186      7          4   \n",
       "2997        2997       1.50         1510     16800      8          5   \n",
       "2998        2998       2.00         1640      3021      7          3   \n",
       "2999        2999       2.00         1410      9600      7          4   \n",
       "\n",
       "      waterfront  view  age          UTM_X         UTM_Y  log_price  \\\n",
       "0              0     0  109  552217.557035  5.274945e+06   6.091315   \n",
       "1              0     0   57  565692.484331  5.272758e+06   5.790988   \n",
       "2              0     0   28  562451.661509  5.245291e+06   5.315130   \n",
       "3              0     0   66  546816.935618  5.264407e+06   5.619093   \n",
       "4              0     0   36  564343.195352  5.244978e+06   5.477121   \n",
       "...          ...   ...  ...            ...           ...        ...   \n",
       "2995           0     0   58  551377.991268  5.259321e+06   5.380211   \n",
       "2996           0     0   65  550796.231636  5.291393e+06   5.566895   \n",
       "2997           0     0   59  549619.278143  5.288838e+06   5.618048   \n",
       "2998           0     2   56  548198.517745  5.279378e+06   5.732394   \n",
       "2999           0     0   32  564000.344592  5.289879e+06   5.562887   \n",
       "\n",
       "                         geometry  \n",
       "0     POINT (-122.30500 47.62580)  \n",
       "1     POINT (-122.12600 47.60490)  \n",
       "2     POINT (-122.17300 47.35810)  \n",
       "3     POINT (-122.37800 47.53140)  \n",
       "4     POINT (-122.14800 47.35510)  \n",
       "...                           ...  \n",
       "2995  POINT (-122.31800 47.48530)  \n",
       "2996  POINT (-122.32200 47.77390)  \n",
       "2997  POINT (-122.33800 47.75100)  \n",
       "2998  POINT (-122.35800 47.66600)  \n",
       "2999  POINT (-122.14600 47.75910)  \n",
       "\n",
       "[3000 rows x 13 columns]"
      ]
     },
     "execution_count": 5,
     "metadata": {},
     "output_type": "execute_result"
    }
   ],
   "source": [
    "data"
   ]
  },
  {
   "cell_type": "code",
   "execution_count": 6,
   "metadata": {},
   "outputs": [],
   "source": [
    "data['lat'] = data['geometry'].x"
   ]
  },
  {
   "cell_type": "code",
   "execution_count": 7,
   "metadata": {},
   "outputs": [],
   "source": [
    "data['lon'] = data['geometry'].y"
   ]
  },
  {
   "cell_type": "code",
   "execution_count": 8,
   "metadata": {},
   "outputs": [],
   "source": [
    "data['price'] = np.power(10, data['log_price']) / 10000"
   ]
  },
  {
   "cell_type": "code",
   "execution_count": 9,
   "metadata": {},
   "outputs": [],
   "source": [
    "y = data.price\n",
    "X_aspatial = data[['bathrooms', 'sqft_living', 'sqft_lot', 'grade', 'condition', 'waterfront', 'view', 'age']]\n",
    "X_spatial = data[['bathrooms', 'sqft_living', 'sqft_lot', 'grade', 'condition', 'waterfront', 'view', 'age', 'UTM_X', 'UTM_Y']]\n",
    "loc = data[['lat','lon']]"
   ]
  },
  {
   "cell_type": "code",
   "execution_count": 10,
   "metadata": {},
   "outputs": [],
   "source": [
    "X_aspatial_train_, X_apsatial_test_, X_spatial_train_, X_spatial_test_, y_train_, y_test_ = train_test_split(X_aspatial, X_spatial, y, train_size=0.8, random_state=42)"
   ]
  },
  {
   "cell_type": "code",
   "execution_count": 11,
   "metadata": {},
   "outputs": [],
   "source": [
    "X_aspatial_train, X_apsatial_temp, X_spatial_train, X_spatial_temp, y_train, y_temp, loc_train, loc_temp = train_test_split(X_aspatial, X_spatial, y, loc, train_size=0.8, random_state=42)"
   ]
  },
  {
   "cell_type": "code",
   "execution_count": 12,
   "metadata": {},
   "outputs": [],
   "source": [
    "X_aspatial_val, X_aspatial_test, X_spatial_val, X_spatial_test, y_val, y_test, loc_val, loc_test = train_test_split(X_apsatial_temp, X_spatial_temp, y_temp, loc_temp, train_size=0.5, random_state=42)"
   ]
  },
  {
   "cell_type": "code",
   "execution_count": 13,
   "metadata": {},
   "outputs": [],
   "source": [
    "n_bootstrap = 2000"
   ]
  },
  {
   "cell_type": "code",
   "execution_count": 14,
   "metadata": {},
   "outputs": [],
   "source": [
    "model = xgb.XGBRegressor(n_estimators=500, max_depth=3, min_child_weight=1.0, colsample_bytree=1.0)"
   ]
  },
  {
   "cell_type": "code",
   "execution_count": 15,
   "metadata": {},
   "outputs": [
    {
     "data": {
      "text/plain": [
       "XGBRegressor(base_score=0.5, booster='gbtree', callbacks=None,\n",
       "             colsample_bylevel=1, colsample_bynode=1, colsample_bytree=1.0,\n",
       "             early_stopping_rounds=None, enable_categorical=False,\n",
       "             eval_metric=None, gamma=0, gpu_id=-1, grow_policy='depthwise',\n",
       "             importance_type=None, interaction_constraints='',\n",
       "             learning_rate=0.300000012, max_bin=256, max_cat_to_onehot=4,\n",
       "             max_delta_step=0, max_depth=3, max_leaves=0, min_child_weight=1.0,\n",
       "             missing=nan, monotone_constraints='()', n_estimators=500, n_jobs=0,\n",
       "             num_parallel_tree=1, predictor='auto', random_state=0, reg_alpha=0,\n",
       "             reg_lambda=1, ...)"
      ]
     },
     "execution_count": 15,
     "metadata": {},
     "output_type": "execute_result"
    }
   ],
   "source": [
    "model.fit(X_spatial_train_, y_train_)"
   ]
  },
  {
   "cell_type": "code",
   "execution_count": 16,
   "metadata": {},
   "outputs": [],
   "source": [
    "y_pred_train = model.predict(X_spatial_train_)"
   ]
  },
  {
   "cell_type": "code",
   "execution_count": 17,
   "metadata": {},
   "outputs": [],
   "source": [
    "residuals = y_train_ - y_pred_train"
   ]
  },
  {
   "cell_type": "code",
   "execution_count": 18,
   "metadata": {},
   "outputs": [],
   "source": [
    "import matplotlib.pyplot as plt"
   ]
  },
  {
   "cell_type": "code",
   "execution_count": 21,
   "metadata": {},
   "outputs": [
    {
     "data": {
      "text/plain": [
       "{'whiskers': [<matplotlib.lines.Line2D at 0x7fed8109aed0>,\n",
       "  <matplotlib.lines.Line2D at 0x7fed810b1310>],\n",
       " 'caps': [<matplotlib.lines.Line2D at 0x7fed810b1750>,\n",
       "  <matplotlib.lines.Line2D at 0x7fed810b1b90>],\n",
       " 'boxes': [<matplotlib.lines.Line2D at 0x7fed8109ab10>],\n",
       " 'medians': [<matplotlib.lines.Line2D at 0x7fed810bb050>],\n",
       " 'fliers': [<matplotlib.lines.Line2D at 0x7fed810bb490>],\n",
       " 'means': []}"
      ]
     },
     "execution_count": 21,
     "metadata": {},
     "output_type": "execute_result"
    },
    {
     "name": "stderr",
     "output_type": "stream",
     "text": [
      "/opt/anaconda3/lib/python3.7/site-packages/matplotlib/backends/backend_agg.py:240: RuntimeWarning: Glyph 8722 missing from current font.\n",
      "  font.set_text(s, 0.0, flags=flags)\n",
      "/opt/anaconda3/lib/python3.7/site-packages/matplotlib/backends/backend_agg.py:203: RuntimeWarning: Glyph 8722 missing from current font.\n",
      "  font.set_text(s, 0, flags=flags)\n"
     ]
    },
    {
     "data": {
      "image/png": "[encoded data removed]",
      "text/plain": [
       "<Figure size 432x288 with 1 Axes>"
      ]
     },
     "metadata": {
      "needs_background": "light"
     },
     "output_type": "display_data"
    }
   ],
   "source": [
    "plt.boxplot(x=residuals)"
   ]
  },
  {
   "cell_type": "code",
   "execution_count": 24,
   "metadata": {},
   "outputs": [],
   "source": [
    "# with variability\n",
    "bootstrap_predictions = np.zeros((n_bootstrap, len(y)))\n",
    "bootstrap_prediction_errors = np.zeros((n_bootstrap, len(y)))\n",
    "for i in range(n_bootstrap):\n",
    "    X_bootstrap, y_bootstrap = resample(X_spatial_train_, y_train_, n_samples=len(X_spatial_train_), random_state=i)\n",
    "    model = xgb.XGBRegressor(n_estimators=500, max_depth=3, min_child_weight=1.0, colsample_bytree=1.0)\n",
    "    model.fit(X_bootstrap, y_bootstrap)\n",
    "    results = model.predict(X_spatial)\n",
    "    # errors = np.abs(results - y)\n",
    "#     bootstrap_predictions[i] = results\n",
    "    # bootstrap_prediction_errors[i] = errors\n",
    "    resampled_residuals = resample(residuals, n_samples=len(X_spatial))\n",
    "    preds_with_variability = results + resampled_residuals\n",
    "    bootstrap_predictions[i] = preds_with_variability"
   ]
  },
  {
   "cell_type": "raw",
   "metadata": {},
   "source": [
    "# original version\n",
    "bootstrap_predictions = np.zeros((n_bootstrap, len(y)))\n",
    "bootstrap_prediction_errors = np.zeros((n_bootstrap, len(y)))\n",
    "for i in range(n_bootstrap):\n",
    "    X_bootstrap, y_bootstrap = resample(X_spatial_train_, y_train_, n_samples=len(X_spatial_train_), random_state=i)\n",
    "    model = xgb.XGBRegressor(n_estimators=500, max_depth=3, min_child_weight=1.0, colsample_bytree=1.0)\n",
    "    model.fit(X_bootstrap, y_bootstrap)\n",
    "    results = model.predict(X_spatial)\n",
    "    bootstrap_predictions[i] = results"
   ]
  },
  {
   "cell_type": "code",
   "execution_count": 25,
   "metadata": {},
   "outputs": [],
   "source": [
    "bs_lower_bound = np.percentile(bootstrap_predictions, 5, axis=0)[y_test.index]"
   ]
  },
  {
   "cell_type": "code",
   "execution_count": 26,
   "metadata": {},
   "outputs": [],
   "source": [
    "bs_upper_bound = np.percentile(bootstrap_predictions, 95, axis=0)[y_test.index]"
   ]
  },
  {
   "cell_type": "code",
   "execution_count": 27,
   "metadata": {},
   "outputs": [
    {
     "data": {
      "text/plain": [
       "0.6533333333333333"
      ]
     },
     "execution_count": 27,
     "metadata": {},
     "output_type": "execute_result"
    }
   ],
   "source": [
    "np.mean((y_test >= bs_lower_bound) & (y_test <= bs_upper_bound))"
   ]
  },
  {
   "cell_type": "code",
   "execution_count": 24,
   "metadata": {},
   "outputs": [],
   "source": [
    "n_bootstrap_list = [10, 20, 30, 40, 50, 60, 70, 80, 90, 100, 110, 120, 130, 140, 150, 160, 170, 180, 190, 200, 300, 400, 500, 750, 1000, 1250, 1500, 1750, 2000]"
   ]
  },
  {
   "cell_type": "code",
   "execution_count": 14,
   "metadata": {},
   "outputs": [],
   "source": [
    "# n_bootstrap_list = [2000]"
   ]
  },
  {
   "cell_type": "code",
   "execution_count": 15,
   "metadata": {},
   "outputs": [],
   "source": [
    "coverage_list = []"
   ]
  },
  {
   "cell_type": "code",
   "execution_count": 18,
   "metadata": {},
   "outputs": [],
   "source": [
    "interval_size_list = []"
   ]
  },
  {
   "cell_type": "code",
   "execution_count": 16,
   "metadata": {},
   "outputs": [],
   "source": [
    "import time"
   ]
  },
  {
   "cell_type": "code",
   "execution_count": 19,
   "metadata": {},
   "outputs": [
    {
     "name": "stdout",
     "output_type": "stream",
     "text": [
      "resamples: 10\n",
      "resamples: 20\n",
      "resamples: 30\n",
      "resamples: 40\n",
      "resamples: 50\n",
      "resamples: 60\n",
      "resamples: 70\n",
      "resamples: 80\n",
      "resamples: 90\n",
      "resamples: 100\n",
      "resamples: 110\n",
      "resamples: 120\n",
      "resamples: 130\n",
      "resamples: 140\n",
      "resamples: 150\n",
      "resamples: 160\n",
      "resamples: 170\n",
      "resamples: 180\n",
      "resamples: 190\n",
      "resamples: 200\n",
      "resamples: 300\n",
      "resamples: 400\n",
      "resamples: 500\n",
      "resamples: 750\n",
      "resamples: 1000\n",
      "resamples: 1250\n",
      "resamples: 1500\n",
      "resamples: 1750\n",
      "resamples: 2000\n"
     ]
    }
   ],
   "source": [
    "model = xgb.XGBRegressor(n_estimators=500, max_depth=3, min_child_weight=1.0, colsample_bytree=1.0)\n",
    "model.fit(X_spatial_train_, y_train_)\n",
    "y_pred_train = model.predict(X_spatial_train_)\n",
    "residuals = y_train_ - y_pred_train\n",
    "\n",
    "for n_bootstrap in n_bootstrap_list:\n",
    "    print(f'resamples: {n_bootstrap}')\n",
    "    start = time.time()\n",
    "    bootstrap_predictions = np.zeros((n_bootstrap, len(y)))\n",
    "    bootstrap_prediction_errors = np.zeros((n_bootstrap, len(y)))\n",
    "    for i in range(n_bootstrap):\n",
    "        X_bootstrap, y_bootstrap = resample(X_spatial_train_, y_train_, n_samples=len(X_spatial_train_), random_state=i)\n",
    "        model = xgb.XGBRegressor(n_estimators=500, max_depth=3, min_child_weight=1.0, colsample_bytree=1.0)\n",
    "        model.fit(X_bootstrap, y_bootstrap)\n",
    "        results = model.predict(X_spatial)\n",
    "        errors = np.abs(results - y)\n",
    "#         bootstrap_predictions[i] = results\n",
    "#         bootstrap_prediction_errors[i] = errors\n",
    "        resampled_residuals = resample(residuals, n_samples=len(X_spatial))\n",
    "        preds_with_variability = results + resampled_residuals\n",
    "        bootstrap_predictions[i] = preds_with_variability\n",
    "    bs_lower_bound = np.percentile(bootstrap_predictions, 5, axis=0)[y_test.index]\n",
    "    bs_upper_bound = np.percentile(bootstrap_predictions, 95, axis=0)[y_test.index]\n",
    "    interval_size_list.append(np.mean(bs_upper_bound - bs_lower_bound))\n",
    "    coverage = np.mean((y_test >= bs_lower_bound) & (y_test <= bs_upper_bound))\n",
    "    end = time.time()\n",
    "    coverage_list.append(coverage)"
   ]
  },
  {
   "cell_type": "code",
   "execution_count": 20,
   "metadata": {},
   "outputs": [
    {
     "data": {
      "text/plain": [
       "988.5079817771912"
      ]
     },
     "execution_count": 20,
     "metadata": {},
     "output_type": "execute_result"
    }
   ],
   "source": [
    "end - start"
   ]
  },
  {
   "cell_type": "code",
   "execution_count": 30,
   "metadata": {},
   "outputs": [],
   "source": [
    "coverage_list = coverage_list[-29:]"
   ]
  },
  {
   "cell_type": "code",
   "execution_count": 31,
   "metadata": {},
   "outputs": [
    {
     "data": {
      "image/png": "[encoded data removed]",
      "text/plain": [
       "<Figure size 720x432 with 2 Axes>"
      ]
     },
     "metadata": {},
     "output_type": "display_data"
    }
   ],
   "source": [
    "fig, ax1 = plt.subplots(figsize=(10, 6))\n",
    "\n",
    "ax1.set_xlabel('time (s)')\n",
    "ax1.set_ylabel('exp')\n",
    "ax1.set_xticks(np.arange(0, 2001, 100))\n",
    "ax1.set_xlabel('Resamples')\n",
    "ax1.set_ylabel('Coverage ratio')\n",
    "ax1.plot(n_bootstrap_list, coverage_list)\n",
    "\n",
    "ax2 = ax1.twinx()\n",
    "\n",
    "ax2.set_ylabel('Average interval size')\n",
    "ax2.plot(n_bootstrap_list, interval_size_list)\n",
    "\n",
    "plt.tight_layout()\n",
    "\n",
    "plt.savefig('./pdf/resamples_coverage_rate_avg_interval_size.pdf', dpi=300, bbox_inches='tight')"
   ]
  },
  {
   "cell_type": "code",
   "execution_count": 31,
   "metadata": {},
   "outputs": [
    {
     "data": {
      "image/png": "[encoded data removed]",
      "text/plain": [
       "<Figure size 720x432 with 1 Axes>"
      ]
     },
     "metadata": {},
     "output_type": "display_data"
    }
   ],
   "source": [
    "plt.rcParams['font.size'] = 15\n",
    "plt.rcParams['font.family'] = 'SF Pro Display'\n",
    "\n",
    "plt.figure(figsize=(10, 6))\n",
    "\n",
    "sns.set_theme(style=\"whitegrid\")\n",
    "sns.lineplot(x=n_bootstrap_list, y=coverage_ratios, lw=2, color='#262626')\n",
    "\n",
    "plt.ylabel('Coverage ratio (%)')\n",
    "plt.xlabel('Resamples')\n",
    "plt.xticks(np.arange(0, 2001, 500))\n",
    "# plt.legend(loc='upper right')\n",
    "# plt.axhline(y=0.9366666666666666, color='r', linestyle='-.')\n",
    "plt.tight_layout()\n",
    "\n",
    "plt.savefig('./pdf/resamples_coverage_rate_new.pdf', dpi=300, bbox_inches='tight')\n"
   ]
  },
  {
   "cell_type": "code",
   "execution_count": 35,
   "metadata": {},
   "outputs": [
    {
     "data": {
      "image/png": "[encoded data removed]",
      "text/plain": [
       "<Figure size 720x432 with 1 Axes>"
      ]
     },
     "metadata": {},
     "output_type": "display_data"
    }
   ],
   "source": [
    "plt.figure(figsize=(10, 6))\n",
    "\n",
    "sns.set_theme(style=\"whitegrid\")\n",
    "sns.lineplot(x=n_bootstrap_list, y=interval_size_list)\n",
    "\n",
    "plt.ylabel('Average interval size')\n",
    "plt.xlabel('Resamples')\n",
    "plt.xticks(np.arange(0, 2001, 100), rotation=-45)\n",
    "# plt.legend(loc='upper right')\n",
    "# plt.axhline(y=0.9366666666666666, color='r', linestyle='-.')\n",
    "plt.tight_layout()\n",
    "\n",
    "plt.savefig('./pdf/resamples_interval_size.pdf', dpi=300, bbox_inches='tight')"
   ]
  },
  {
   "cell_type": "code",
   "execution_count": 38,
   "metadata": {},
   "outputs": [
    {
     "data": {
      "image/png": "[encoded data removed]",
      "text/plain": [
       "<Figure size 720x576 with 2 Axes>"
      ]
     },
     "metadata": {},
     "output_type": "display_data"
    }
   ],
   "source": [
    "fig, axes = plt.subplots(nrows=2, ncols=1, figsize=(10, 8))\n",
    "\n",
    "ax1, ax2 = axes[0], axes[1]\n",
    "\n",
    "ax1.set_xticks(np.arange(0, 2001, 100))\n",
    "ax1.set_xlabel('Resamples')\n",
    "ax1.set_ylabel('Coverage ratio')\n",
    "ax1.plot(n_bootstrap_list, coverage_list)\n",
    "\n",
    "ax1.set_xticks(np.arange(0, 2001, 100))\n",
    "ax1.set_xlabel('Resamples')\n",
    "ax2.set_ylabel('Average interval size')\n",
    "ax2.plot(n_bootstrap_list, interval_size_list)\n",
    "\n",
    "plt.tight_layout()\n",
    "plt.savefig('./pdf/resamples_coverage_rate_avg_interval_size.pdf', dpi=300, bbox_inches='tight')"
   ]
  },
  {
   "cell_type": "code",
   "execution_count": 39,
   "metadata": {},
   "outputs": [
    {
     "data": {
      "text/plain": [
       "[0.6266666666666667,\n",
       " 0.7133333333333334,\n",
       " 0.7366666666666667,\n",
       " 0.7566666666666667,\n",
       " 0.7266666666666667,\n",
       " 0.74,\n",
       " 0.75,\n",
       " 0.78,\n",
       " 0.76,\n",
       " 0.78,\n",
       " 0.7733333333333333,\n",
       " 0.7733333333333333,\n",
       " 0.7966666666666666,\n",
       " 0.7966666666666666,\n",
       " 0.79,\n",
       " 0.79,\n",
       " 0.7766666666666666,\n",
       " 0.7766666666666666,\n",
       " 0.77,\n",
       " 0.7733333333333333,\n",
       " 0.79,\n",
       " 0.7866666666666666,\n",
       " 0.8,\n",
       " 0.7966666666666666,\n",
       " 0.8,\n",
       " 0.81,\n",
       " 0.7933333333333333,\n",
       " 0.8,\n",
       " 0.8033333333333333]"
      ]
     },
     "execution_count": 39,
     "metadata": {},
     "output_type": "execute_result"
    }
   ],
   "source": [
    "coverage_list"
   ]
  },
  {
   "cell_type": "code",
   "execution_count": 40,
   "metadata": {},
   "outputs": [
    {
     "data": {
      "text/plain": [
       "[16.51736829065297,\n",
       " 17.77615891015142,\n",
       " 18.85711085058517,\n",
       " 19.247260190351614,\n",
       " 19.475176601650993,\n",
       " 19.341085774361662,\n",
       " 19.50196013400802,\n",
       " 19.716559915424593,\n",
       " 19.682836252763362,\n",
       " 19.82390360430526,\n",
       " 19.982507738586932,\n",
       " 19.95984564518737,\n",
       " 19.995147442681883,\n",
       " 20.077760227441395,\n",
       " 20.04786539296797,\n",
       " 20.16621996180851,\n",
       " 20.004662091576375,\n",
       " 20.112280109169756,\n",
       " 20.070603104481496,\n",
       " 19.982650059936766,\n",
       " 20.24125205810623,\n",
       " 20.38043897105508,\n",
       " 20.300789207779427,\n",
       " 20.320761693635806,\n",
       " 20.475696552255503,\n",
       " 20.4208709912061,\n",
       " 20.489579929711145,\n",
       " 20.47419592839431,\n",
       " 20.481986386381777]"
      ]
     },
     "execution_count": 40,
     "metadata": {},
     "output_type": "execute_result"
    }
   ],
   "source": [
    "interval_size_list"
   ]
  },
  {
   "cell_type": "code",
   "execution_count": 2,
   "metadata": {},
   "outputs": [],
   "source": [
    "coverage_list = [0.6266666666666667,\n",
    " 0.7133333333333334,\n",
    " 0.7366666666666667,\n",
    " 0.7566666666666667,\n",
    " 0.7266666666666667,\n",
    " 0.74,\n",
    " 0.75,\n",
    " 0.78,\n",
    " 0.76,\n",
    " 0.78,\n",
    " 0.7733333333333333,\n",
    " 0.7733333333333333,\n",
    " 0.7966666666666666,\n",
    " 0.7966666666666666,\n",
    " 0.79,\n",
    " 0.79,\n",
    " 0.7766666666666666,\n",
    " 0.7766666666666666,\n",
    " 0.77,\n",
    " 0.7733333333333333,\n",
    " 0.79,\n",
    " 0.7866666666666666,\n",
    " 0.8,\n",
    " 0.7966666666666666,\n",
    " 0.8,\n",
    " 0.81,\n",
    " 0.7933333333333333,\n",
    " 0.8,\n",
    " 0.8033333333333333]"
   ]
  },
  {
   "cell_type": "code",
   "execution_count": 5,
   "metadata": {},
   "outputs": [],
   "source": [
    "coverage_ratios = list(map(lambda x: x * 100, coverage_list))"
   ]
  },
  {
   "cell_type": "code",
   "execution_count": 30,
   "metadata": {},
   "outputs": [
    {
     "data": {
      "image/png": "[encoded data removed]",
      "text/plain": [
       "<Figure size 360x576 with 1 Axes>"
      ]
     },
     "metadata": {},
     "output_type": "display_data"
    }
   ],
   "source": [
    "plt.rcParams['font.size'] = 15\n",
    "plt.rcParams['font.family'] = 'SF Pro Display'\n",
    "\n",
    "fig, ax = plt.subplots(figsize=(5, 8))\n",
    "\n",
    "sns.boxplot(y=coverage_ratios, width=0.2, color='#f1a226', flierprops={\"marker\": \"o\"},)\n",
    "ax.set_ylabel('Coverage ratio (%)')\n",
    "\n",
    "ax.axhline(y=93.7, linestyle='--')\n",
    "\n",
    "plt.savefig('./pdf/coverage_ratio_comparison.pdf', dpi=300, bbox_inches='tight')"
   ]
  },
  {
   "cell_type": "code",
   "execution_count": null,
   "metadata": {},
   "outputs": [],
   "source": []
  }
 ],
 "metadata": {
  "kernelspec": {
   "display_name": "Python 3",
   "language": "python",
   "name": "python3"
  },
  "language_info": {
   "codemirror_mode": {
    "name": "ipython",
    "version": 3
   },
   "file_extension": ".py",
   "mimetype": "text/x-python",
   "name": "python",
   "nbconvert_exporter": "python",
   "pygments_lexer": "ipython3",
   "version": "3.7.8"
  }
 },
 "nbformat": 4,
 "nbformat_minor": 4
}
